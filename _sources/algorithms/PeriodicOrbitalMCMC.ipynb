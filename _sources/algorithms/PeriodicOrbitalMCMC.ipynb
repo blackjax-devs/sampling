{
 "cells": [
  {
   "cell_type": "markdown",
   "id": "2deef9a0",
   "metadata": {},
   "source": [
    "# Periodic Orbital MCMC\n",
    "\n",
    "Illustrating the usage of Algorithm 2 of [Neklyudov & Welling, (2021)](https://arxiv.org/abs/2010.08047) {cite:p}`orbitalMCMC2021` on the Banana density\n",
    "\n",
    "$$\n",
    "p(x) = p(x_1, x_2) = N(x_1|0, 8)N(x_2|1/4x_1^2, 1).\n",
    "$$\n",
    "\n",
    "Bijection functions $f(x, v)$ used for sampling are the velocity Verlet, McLachlan and Yoshida integrators for the Hamiltonian function\n",
    "\n",
    "$$\n",
    "H(x, v) = \\frac{1}{2}\\left(\\frac{x_1^2}{8} + \\left(x_2 - \\frac{1}{4}x_1^2\\right)^2\\right) + \\frac{1}{2}v^Tv.\n",
    "$$\n",
    "\n",
    "Using any of these integrators amounts to doing vanilla HMC (traditionally done with the velocity Verlet integrator) but sampling various points from an orbit that discretizes the Hamiltonian dynamics to then weigh these samples in order to ensure we target the correct distribution (where in vanilla HMC we would choose a sample from the discretized orbit and perform a Metropolis-Hastings acceptance step on that sample to ensure the target distribution is left invariant).\n",
    "\n",
    "The benefits of sampling the whole orbit instead of a single point in it are: efficiency, since we build a trajectory around an orbit and use all if it instead of discarding most of it; and wider reach, since even unlikely points will be sampled and given small weights, making the sampler more likely to explore the tails of our target. This at the cost of higher memory consumption since we have `period` samples per iteration, instead of only one, and the lack of diagnostics, theoretical guarantees and heuristic methods developed for traditional HMC and its adaptive mechanisms (such as NUTS) during the past decades.\n",
    "\n",
    "It is also illustrated the usage of normalizing flows, specifically the Masked Autoregressive flow ([MAF](https://arxiv.org/abs/1705.07057)) {cite:p}`maskedautoregressiveflow2017`, as a preconditioning step for the algorithm; using as a bijection function the ellipsis\n",
    "\n",
    "```{math}\n",
    "\\begin{align*}\n",
    "    x(t) &= x(0) \\cos(t) + v(t) \\sin(t) \\\\\n",
    "    v(t) &= v(0) \\cos(t) - x(t) \\sin(t),\n",
    "\\end{align*}\n",
    "```\n",
    "\n",
    "i.e. the solution of Hamilton's equations for $p(x,v) = N(x|0,I)N(v|0,I)$,\n",
    "\n",
    "```{math}\n",
    "\\begin{align*}\n",
    "    \\frac{d x}{d t} &= v \\\\\n",
    "    \\frac{d v}{d t} &= -x.\n",
    "\\end{align*}\n",
    "```\n",
    "\n",
    "As it is later demonstrated, these dynamics alone fail to capture all the volume of our banana density. They are, however, cheap and easy to use, since these dynamics are both gradient-free (don't require the computation of gradients of our target distribution) and tuning-free (have no tuning parameters); in contrast with the integrators mentioned above, which need to compute gradients at each iteration and require tuning of the discretization step size and number of steps (when used for periodic orbital MCMC, these values are represented by the `step_size` and `period`). Paired with a preconditioning step which transforms our target to approximate $N(x|0,I)$, our cheap and easy dynamics can efficienty sample from the whole volume of our banana density while delegating the expensive gradients and cumbersome tuning to an optimization problem performed pre-sampling."
   ]
  },
  {
   "cell_type": "code",
   "execution_count": null,
   "id": "42b271be",
   "metadata": {},
   "outputs": [],
   "source": [
    "import jax\n",
    "import jax.numpy as jnp\n",
    "import jax.scipy.stats as stats\n",
    "import matplotlib.pyplot as plt\n",
    "\n",
    "import blackjax.mcmc.integrators as integrators\n",
    "from blackjax import orbital_hmc as orbital"
   ]
  },
  {
   "cell_type": "code",
   "execution_count": null,
   "id": "2b0e843e",
   "metadata": {
    "tags": [
     "hide-cell"
    ]
   },
   "outputs": [],
   "source": [
    "def plot_contour(logdensity, orbits=None, weights=None):\n",
    "    \"\"\"Contour plots for density w/ or w/o samples.\"\"\"\n",
    "    a, b, c, d = -7.5, 7.5, -5, 12.5\n",
    "    x1 = jnp.linspace(a, b, 1000)\n",
    "    x2 = jnp.linspace(c, d, 1000)\n",
    "    y = jax.vmap(\n",
    "        jax.vmap(lambda x1, x2: jnp.exp(logdensity({\"x1\": x1, \"x2\": x2})), (0, None)),\n",
    "        (None, 0),\n",
    "    )(x1, x2)\n",
    "    fig, ax = plt.subplots(1, 2, figsize=(17, 6))\n",
    "    CS0 = ax[0].contour(x1, x2, y, levels=10, colors=\"k\")\n",
    "    plt.clabel(CS0, inline=1, fontsize=10)\n",
    "    CS1 = ax[1].contour(x1, x2, y, levels=10, colors=\"k\")\n",
    "    plt.clabel(CS1, inline=1, fontsize=10)\n",
    "    if orbits is not None:\n",
    "        ax[0].set_title(\"Unweighted samples\")\n",
    "        ax[0].scatter(orbits[\"x1\"], orbits[\"x2\"], marker=\".\")\n",
    "        ax[1].set_title(\"Weighted samples\")\n",
    "        ax[1].scatter(orbits[\"x1\"], orbits[\"x2\"], marker=\".\", alpha=weights)"
   ]
  },
  {
   "cell_type": "code",
   "execution_count": null,
   "id": "4ba0514c",
   "metadata": {
    "tags": [
     "hide-cell"
    ]
   },
   "outputs": [],
   "source": [
    "def inference_loop(rng_key, kernel, initial_state, num_samples):\n",
    "    \"\"\"Sequantially draws samples given the kernel of choice.\"\"\"\n",
    "\n",
    "    def one_step(state, rng_key):\n",
    "        state, _ = kernel(rng_key, state)\n",
    "        return state, state\n",
    "\n",
    "    keys = jax.random.split(rng_key, num_samples)\n",
    "    _, states = jax.lax.scan(one_step, initial_state, keys)\n",
    "\n",
    "    return states"
   ]
  },
  {
   "cell_type": "markdown",
   "id": "dbcbd466",
   "metadata": {},
   "source": [
    "## Banana Density\n",
    "\n",
    "We will be sampling from the banana density:"
   ]
  },
  {
   "cell_type": "code",
   "execution_count": null,
   "id": "4ab06718",
   "metadata": {
    "tags": [
     "hide-input"
    ]
   },
   "outputs": [],
   "source": [
    "def logdensity_fn(x1, x2):\n",
    "    \"\"\"Banana density\"\"\"\n",
    "    return stats.norm.logpdf(x1, 0.0, jnp.sqrt(8.0)) + stats.norm.logpdf(\n",
    "        x2, 1 / 4 * x1**2, 1.0\n",
    "    )\n",
    "\n",
    "\n",
    "logdensity = lambda x: logdensity_fn(**x)\n",
    "plot_contour(logdensity)"
   ]
  },
  {
   "cell_type": "markdown",
   "id": "13389506",
   "metadata": {},
   "source": [
    "## Initial State and Sampler Parameters\n",
    "\n",
    "Since the algorithm doesn't have an accept/reject step, we can't tune the parameters of the bijection according to its acceptance probability. By weighing the samples we are are doing, in a sense, importance sampling; hence, an alternative would be develop and adaptive procedure that aims at reducing the variance of the weights.\n",
    "\n",
    "The algorithm samples orbits of length `period`. Each iteration, starting from an initial point sampled from the previous orbit, shifts its initial point's position in the orbit, hence making the algorithm irreversible, and samples the whole orbit, forwards and backwards in order to cover the whole period, for steps of length `step_size`. The samples are then weighted and returned with its corresponding weights."
   ]
  },
  {
   "cell_type": "code",
   "execution_count": null,
   "id": "365d985b",
   "metadata": {},
   "outputs": [],
   "source": [
    "inv_mass_matrix = jnp.ones(2)\n",
    "period = 10\n",
    "step_size = 1e-1"
   ]
  },
  {
   "cell_type": "code",
   "execution_count": null,
   "id": "67c0a1ae",
   "metadata": {},
   "outputs": [],
   "source": [
    "initial_position = {\"x1\": 0.0, \"x2\": 0.0}"
   ]
  },
  {
   "cell_type": "markdown",
   "id": "2ca11440",
   "metadata": {},
   "source": [
    "## Velocity Verlet\n",
    "\n",
    "The integrator usually found in implementations of HMC. It creates an orbit by discretizing the solution to Hamilton's equations of the Hamiltonian function\n",
    "\n",
    "$$\n",
    "H(x, v) = \\frac{1}{2}\\left(\\frac{x_1^2}{8} + \\left(x_2 - \\frac{1}{4}x_1^2\\right)^2\\right) + \\frac{1}{2}v^Tv.\n",
    "$$\n",
    "\n",
    "The plots include the unweighted samples to get an idea of how the integrator is exploring the sample space before the weight's \"correction\"."
   ]
  },
  {
   "cell_type": "code",
   "execution_count": null,
   "id": "4e4ebdb5",
   "metadata": {},
   "outputs": [],
   "source": [
    "%%time\n",
    "init_fn, vv_kernel = orbital(\n",
    "    logdensity, step_size, inv_mass_matrix, period, bijection=integrators.velocity_verlet\n",
    ")\n",
    "initial_state = init_fn(initial_position)\n",
    "vv_kernel = jax.jit(vv_kernel)"
   ]
  },
  {
   "cell_type": "code",
   "execution_count": null,
   "id": "75ecbecc",
   "metadata": {},
   "outputs": [],
   "source": [
    "%%time\n",
    "rng_key = jax.random.PRNGKey(0)\n",
    "states = inference_loop(rng_key, vv_kernel, initial_state, 10_000)\n",
    "\n",
    "samples = states.positions\n",
    "weights = states.weights"
   ]
  },
  {
   "cell_type": "code",
   "execution_count": null,
   "id": "78fdd0ff",
   "metadata": {},
   "outputs": [],
   "source": [
    "plot_contour(logdensity, orbits=samples, weights=weights)"
   ]
  },
  {
   "cell_type": "markdown",
   "id": "403b9824",
   "metadata": {},
   "source": [
    "## McLachlan\n",
    "\n",
    "A different method of discretizing the solution to Hamilton's equations, see [Blanes, Casas & Sanz-Serna (2014)](https://arxiv.org/abs/1405.3153) {cite:p}`Blanes_2014`"
   ]
  },
  {
   "cell_type": "code",
   "execution_count": null,
   "id": "3ef50089",
   "metadata": {},
   "outputs": [],
   "source": [
    "%%time\n",
    "init_fn, ml_kernel = orbital(\n",
    "    logdensity, step_size, inv_mass_matrix, period, bijection=integrators.mclachlan\n",
    ")\n",
    "initial_state = init_fn(initial_position)\n",
    "ml_kernel = jax.jit(ml_kernel)"
   ]
  },
  {
   "cell_type": "code",
   "execution_count": null,
   "id": "6082e99c",
   "metadata": {},
   "outputs": [],
   "source": [
    "%%time\n",
    "rng_key = jax.random.PRNGKey(0)\n",
    "states = inference_loop(rng_key, ml_kernel, initial_state, 10_000)\n",
    "\n",
    "samples = states.positions\n",
    "weights = states.weights"
   ]
  },
  {
   "cell_type": "code",
   "execution_count": null,
   "id": "6621b144",
   "metadata": {
    "tags": [
     "hide-input"
    ]
   },
   "outputs": [],
   "source": [
    "plot_contour(logdensity, orbits=samples, weights=weights)"
   ]
  },
  {
   "cell_type": "markdown",
   "id": "32bb7251",
   "metadata": {},
   "source": [
    "## Yoshida\n",
    "\n",
    "A different method of discretizing the solution to Hamilton's equations, see [Blanes, Casas & Sanz-Serna (2014)](https://arxiv.org/abs/1405.3153) {cite:p}`Blanes_2014`"
   ]
  },
  {
   "cell_type": "code",
   "execution_count": null,
   "id": "f5f28ec9",
   "metadata": {},
   "outputs": [],
   "source": [
    "%%time\n",
    "init_fn, yo_kernel = orbital(\n",
    "    logdensity, step_size, inv_mass_matrix, period, bijection=integrators.yoshida\n",
    ")\n",
    "initial_state = init_fn(initial_position)\n",
    "yo_kernel = jax.jit(yo_kernel)"
   ]
  },
  {
   "cell_type": "code",
   "execution_count": null,
   "id": "315390d2",
   "metadata": {},
   "outputs": [],
   "source": [
    "%%time\n",
    "rng_key = jax.random.PRNGKey(0)\n",
    "states = inference_loop(rng_key, yo_kernel, initial_state, 10_000)\n",
    "\n",
    "samples = states.positions\n",
    "weights = states.weights"
   ]
  },
  {
   "cell_type": "code",
   "execution_count": null,
   "id": "4de45cb7",
   "metadata": {
    "tags": [
     "hide-input"
    ]
   },
   "outputs": [],
   "source": [
    "plot_contour(logdensity, orbits=samples, weights=weights)"
   ]
  },
  {
   "cell_type": "markdown",
   "id": "efd210a9",
   "metadata": {},
   "source": [
    "## Ellipsis\n",
    "\n",
    "We now create and use a bijection given by an ellipsis using the `IntegratorState` class. The bijection must have as inputs the potential and kinetic energy functions, which are the negative log densities of our target posterior and the auxiliary distribution used for the momentum variable. In the case of our banana density, we are targeting the \"posterior\" $N(x_1|0, 8)N(x_2|1/4x_1^2, 1)$ and using a standard normal distribution for our momentum variable, hence our potential and kinetic energies are $1/2\\left(x_1^2/8 + \\left(x_2 - 1/4x_1^2\\right)^2\\right)$ and $1/2v^Tv$, respectively. However, the orbit we build now is independent of these two energies and moves around an ellipsis given by\n",
    "\n",
    "```{math}\n",
    "\\begin{align*}\n",
    "x(t) &= x(0) \\cos(t) + v(t) \\sin(t) \\\\\n",
    "v(t) &= v(0) \\cos(t) - x(t) \\sin(t),\n",
    "\\end{align*}\n",
    "```\n",
    "\n",
    "which returns to its initial position every $t=2\\pi$ radians. The `step_size` for this orbit is set to cover the entire ellipsis. This ellipsis actually targets a potential and kinetic energy given by the product measure of two standard normal distributions, hence its inefficiency at exploring the real target measure.\n",
    "\n",
    "The bijection must output a function which takes as input an `IntegratorState`, composed of a position, momentum, potential energy (negative log density of our target evaluated at position) and the gradient of the potential energy, and a step size; and outputs a proposed `IntegratorState`. Even if the dynamics of our bijection are independent of the real potential energy, we need to return the potential energy at the proposed position for the computation of the sampler's weights. But, as our dynamics are gradient-free, we can return the same gradient as the previous state to avoid unnecessary computations."
   ]
  },
  {
   "cell_type": "code",
   "execution_count": null,
   "id": "dc5f5aab",
   "metadata": {},
   "outputs": [],
   "source": [
    "def elliptical_bijection(potential_fn, kinetic_energy_fn):\n",
    "    def one_step(\n",
    "        state: integrators.IntegratorState, step_size: float\n",
    "    ) -> integrators.IntegratorState:\n",
    "        _position, _momentum, _, grad = state\n",
    "\n",
    "        position = jax.tree_util.tree_map(\n",
    "            lambda position, momentum: position * jnp.cos(step_size)\n",
    "            + momentum * jnp.sin(step_size),\n",
    "            _position,\n",
    "            _momentum,\n",
    "        )\n",
    "\n",
    "        momentum = jax.tree_util.tree_map(\n",
    "            lambda position, momentum: momentum * jnp.cos(step_size)\n",
    "            - position * jnp.sin(step_size),\n",
    "            _position,\n",
    "            _momentum,\n",
    "        )\n",
    "\n",
    "        return integrators.IntegratorState(\n",
    "            position,\n",
    "            momentum,\n",
    "            potential_fn(position),\n",
    "            grad,\n",
    "        )\n",
    "\n",
    "    return one_step\n",
    "\n",
    "\n",
    "step_size = 2 * jnp.pi / period"
   ]
  },
  {
   "cell_type": "code",
   "execution_count": null,
   "id": "7929b881",
   "metadata": {},
   "outputs": [],
   "source": [
    "%%time\n",
    "init_fn, ellip_kernel = orbital(\n",
    "    logdensity, step_size, inv_mass_matrix, period, bijection=elliptical_bijection\n",
    ")\n",
    "initial_state = init_fn(initial_position)\n",
    "ellip_kernel = jax.jit(ellip_kernel)"
   ]
  },
  {
   "cell_type": "code",
   "execution_count": null,
   "id": "32148085",
   "metadata": {},
   "outputs": [],
   "source": [
    "%%time\n",
    "rng_key = jax.random.PRNGKey(0)\n",
    "states = inference_loop(rng_key, ellip_kernel, initial_state, 10_000)\n",
    "\n",
    "samples = states.positions\n",
    "weights = states.weights"
   ]
  },
  {
   "cell_type": "code",
   "execution_count": null,
   "id": "3d36ad9d",
   "metadata": {
    "tags": [
     "hide-input"
    ]
   },
   "outputs": [],
   "source": [
    "plot_contour(logdensity, orbits=samples, weights=weights)"
   ]
  },
  {
   "cell_type": "markdown",
   "id": "32848912",
   "metadata": {},
   "source": [
    "## Ellipsis + IAF\n",
    "\n",
    "The ellipsis used to build the orbit on the previous algorithm solves Hamilton's equations for $p(x,v) = N(x|0,I)N(v|0,I)$. We can use normalizing flows to approximate the pullback density of our target to a standard normal, thus allowing the algorithm to sample from a density similar to what it is targeting.\n",
    "\n",
    "To do this we parametrize a diffeomorphism as an [MAF](https://arxiv.org/abs/1705.07057) {cite:p}`maskedautoregressiveflow2017` and optimize its parameters by minimizing the the Kullback-Liebler divergence between the pullback density and a standard normal (equivalently maximizing the Evidence Lower BOund (ELBO) or the Variational Lower Bound).\n",
    "\n",
    "Once we have a diffeomorphism that \"transports\" our target to something close enough to a standard normal, we can use our orbital MCMC sampler travelling around the ellipsis to sample from our target pullback density (the target density \"transported\" to a standard normal). This will be equivalent to sampling using periodic orbital MCMC where the bijection used to move around the orbit is the composition of: first the inverse diffeomorphism which transports samples from our target to the standard normal, then the ellipsis solving Hamilton's equations for $p(x,v) = N(x|0,I)N(v|0,I)$, and finally the diffeomorphism which transports standard normal samples back to samples from our target. Formally, if there is a smooth, invertible transformation $T$ such that for $x$, a random variable distributed as our target density $\\pi(x)$, we have that\n",
    "\n",
    "$$\n",
    "z \\sim \\phi(z), \\quad x \\approx T(z),\n",
    "$$\n",
    "\n",
    "where $\\phi(z)$ indicates the standard normal density. This implies that\n",
    "\n",
    "$$\n",
    "\\phi(z) \\approx \\pi(T(z)) |\\det \\nabla T(z)|,\n",
    "$$\n",
    "\n",
    "where the right hand side of the equation is what we call the pullback density of our target. Thus, letting the bijection $f(x,v) = (x(t), v(t))$ for\n",
    "\n",
    "```{math}\n",
    "\\begin{align*}\n",
    "x(t) &= x(0) \\cos(t) + v(t) \\sin(t) \\\\\n",
    "v(t) &= v(0) \\cos(t) - x(t) \\sin(t),\n",
    "\\end{align*}\n",
    "```\n",
    "\n",
    "we have that using the periodic orbital MCMC on the pullback with bijection $f(x,v)$ is equivalent to using the periodic orbital MCMC on our target density with bijection $T \\circ f \\circ T^{-1}$.\n",
    "\n",
    "First we define our parametrized MAF bijection using autoregressive neural networks."
   ]
  },
  {
   "cell_type": "code",
   "execution_count": null,
   "id": "b9b6676e",
   "metadata": {},
   "outputs": [],
   "source": [
    "import optax\n",
    "from numpyro.nn import AutoregressiveNN"
   ]
  },
  {
   "cell_type": "code",
   "execution_count": null,
   "id": "5ad5d743",
   "metadata": {},
   "outputs": [],
   "source": [
    "iaf_hidden_dims = [2, 2]\n",
    "iaf_nonlinearity = jax.example_libraries.stax.Elu\n",
    "init_fun, apply_fun = AutoregressiveNN(\n",
    "    2, iaf_hidden_dims, nonlinearity=iaf_nonlinearity\n",
    ")"
   ]
  },
  {
   "cell_type": "markdown",
   "id": "11b32c87",
   "metadata": {},
   "source": [
    "Then we initialize the parameters of our MAF transformation and define our reference density as a standard normal."
   ]
  },
  {
   "cell_type": "code",
   "execution_count": null,
   "id": "8060aa98",
   "metadata": {},
   "outputs": [],
   "source": [
    "_, unraveler = jax.flatten_util.ravel_pytree(initial_position)\n",
    "_, initial_parameters = init_fun(jax.random.PRNGKey(1), (2,))"
   ]
  },
  {
   "cell_type": "code",
   "execution_count": null,
   "id": "ef9448e9",
   "metadata": {},
   "outputs": [],
   "source": [
    "log_reference = lambda z: jnp.sum(stats.norm.logpdf(z, loc=0.0, scale=1.0))"
   ]
  },
  {
   "cell_type": "markdown",
   "id": "6a18b4cf",
   "metadata": {},
   "source": [
    "### Some Utility Functions\n",
    "\n",
    "Define the log pullback density, our loss function (negative ELBO) and the optimization loop used to train our transformation."
   ]
  },
  {
   "cell_type": "code",
   "execution_count": null,
   "id": "e932c3a1",
   "metadata": {},
   "outputs": [],
   "source": [
    "def logpullback(params, z):\n",
    "    mean, log_sd = apply_fun(params, z)\n",
    "    x = jnp.exp(log_sd) * z + mean\n",
    "    return logdensity(unraveler(x)) + jnp.sum(log_sd)"
   ]
  },
  {
   "cell_type": "code",
   "execution_count": null,
   "id": "9f3d8463",
   "metadata": {},
   "outputs": [],
   "source": [
    "def nelbo_loss(param, Z, log_pullback, lognorm):\n",
    "    return -jnp.sum(jax.vmap(log_pullback, (None, 0))(param, Z) - lognorm)"
   ]
  },
  {
   "cell_type": "code",
   "execution_count": null,
   "id": "8bd1b458",
   "metadata": {},
   "outputs": [],
   "source": [
    "def param_optim(\n",
    "    rng, init_param, log_pullback, learning_rate, n_iter, n_atoms, n_epochs\n",
    "):\n",
    "    epoch_size, remainder = jnp.divmod(n_iter, n_epochs)\n",
    "    n_iter = epoch_size + jnp.bool_(remainder)\n",
    "    rngs = jax.random.split(rng, n_epochs)\n",
    "\n",
    "    optimizer = optax.adam(learning_rate=learning_rate)\n",
    "    init_state = optimizer.init(init_param)\n",
    "\n",
    "    def _epoch(carry, rng):\n",
    "        state, params = carry\n",
    "        Z = jax.random.normal(rng, (n_atoms, 2))\n",
    "        lognorm = jax.vmap(log_reference)(Z)\n",
    "\n",
    "        def _iter(carry, _):\n",
    "            state, params = carry\n",
    "            grads = jax.grad(nelbo_loss)(params, Z, log_pullback, lognorm)\n",
    "            updates, state = optimizer.update(grads, state)\n",
    "            params = optax.apply_updates(params, updates)\n",
    "            nelbo = nelbo_loss(params, Z, log_pullback, lognorm)\n",
    "            return (state, params), nelbo\n",
    "\n",
    "        (_, params), nelbo = jax.lax.scan(_iter, (state, params), jnp.arange(n_iter))\n",
    "        return (state, params), nelbo\n",
    "\n",
    "    (_, params), nelbo = jax.lax.scan(_epoch, (init_state, init_param), rngs)\n",
    "    return params, nelbo.flatten()"
   ]
  },
  {
   "cell_type": "markdown",
   "id": "3f3808ea",
   "metadata": {},
   "source": [
    "We train the parameters of our transformation by minimizing the negative ELBO. A plot of the loss shows convergence."
   ]
  },
  {
   "cell_type": "code",
   "execution_count": null,
   "id": "cc6fe6dc",
   "metadata": {},
   "outputs": [],
   "source": [
    "%%time\n",
    "parameters, nelbo = param_optim(\n",
    "    jax.random.PRNGKey(0),\n",
    "    initial_parameters,\n",
    "    logpullback,\n",
    "    learning_rate=0.01,\n",
    "    n_iter=1000,\n",
    "    n_atoms=1000,\n",
    "    n_epochs=4,\n",
    ")"
   ]
  },
  {
   "cell_type": "code",
   "execution_count": null,
   "id": "ead2a8d1",
   "metadata": {
    "tags": [
     "hide-input"
    ]
   },
   "outputs": [],
   "source": [
    "plt.figure(figsize=(15, 4))\n",
    "plt.title(\"Negative ELBO (KL divergence) over iterations\")\n",
    "plt.plot(nelbo)\n",
    "plt.show()"
   ]
  },
  {
   "cell_type": "markdown",
   "id": "359c631b",
   "metadata": {},
   "source": [
    "We define our log pullback given the learned parameters of the transformation and use the periodic orbital MCMC with an ellipsis to sample from this log pullback density."
   ]
  },
  {
   "cell_type": "code",
   "execution_count": null,
   "id": "9c2772f6",
   "metadata": {},
   "outputs": [],
   "source": [
    "logpullback_fn = lambda x1, x2: logpullback(parameters, jnp.array([x1, x2]))\n",
    "logpull = lambda z: logpullback_fn(**z)"
   ]
  },
  {
   "cell_type": "code",
   "execution_count": null,
   "id": "2298b5d7",
   "metadata": {},
   "outputs": [],
   "source": [
    "%%time\n",
    "init_fn, ellip_kernel = orbital(\n",
    "    logpull, step_size, inv_mass_matrix, period, bijection=elliptical_bijection\n",
    ")\n",
    "initial_state = init_fn(initial_position)\n",
    "ellip_kernel = jax.jit(ellip_kernel)"
   ]
  },
  {
   "cell_type": "code",
   "execution_count": null,
   "id": "7e7ff557",
   "metadata": {},
   "outputs": [],
   "source": [
    "%%time\n",
    "rng_key = jax.random.PRNGKey(0)\n",
    "states = inference_loop(rng_key, ellip_kernel, initial_state, 10_000)\n",
    "\n",
    "pullback_samples = states.positions\n",
    "weights = states.weights"
   ]
  },
  {
   "cell_type": "markdown",
   "id": "e5652ebe",
   "metadata": {},
   "source": [
    "We need to push the samples through the learned MAF transformation to have samples from the target density (banana) and not the pullback."
   ]
  },
  {
   "cell_type": "code",
   "execution_count": null,
   "id": "a9e847eb",
   "metadata": {},
   "outputs": [],
   "source": [
    "def push_samples(z1, z2):\n",
    "    z = jnp.array([z1, z2])\n",
    "    mean, log_sd = apply_fun(parameters, z)\n",
    "    x = jnp.exp(log_sd) * z + mean\n",
    "    return x[0], x[1]"
   ]
  },
  {
   "cell_type": "code",
   "execution_count": null,
   "id": "339fbb74",
   "metadata": {},
   "outputs": [],
   "source": [
    "samplesx1, samplesx2 = jax.vmap(jax.vmap(push_samples))(\n",
    "    pullback_samples[\"x1\"], pullback_samples[\"x2\"]\n",
    ")\n",
    "samples = {\"x1\": samplesx1, \"x2\": samplesx2}"
   ]
  },
  {
   "cell_type": "markdown",
   "id": "f018a19c",
   "metadata": {},
   "source": [
    "The pushed samples are much better at targeting the banana density than the algorithm without a preconditioning step. The transformation helps the sampler stay close to the same density level when moving around the ellipsis, thus reducing the variance of the step's weights along it. This preconditioning serves, in a way, as an adaptive step that tunes the parameters of the sampler through a transformation. Notice that if we move around the whole ellipsis there are no tuning parameters, only the number of samples we choose to extract at each iteration, in contrast with choosing step sizes and number of steps in the case of the other numerical integrators. Of course, we still need to choose a gradient descent algorithm, learning rates, number of iterations, and epochs for the optimization!"
   ]
  },
  {
   "cell_type": "code",
   "execution_count": null,
   "id": "92d99285",
   "metadata": {
    "tags": [
     "hide-input"
    ]
   },
   "outputs": [],
   "source": [
    "plot_contour(logdensity, orbits=samples, weights=weights)"
   ]
  },
  {
   "cell_type": "markdown",
   "id": "11a3729b",
   "metadata": {},
   "source": [
    "```{bibliography}\n",
    ":filter: docname in docnames\n",
    "```"
   ]
  }
 ],
 "metadata": {
  "file_format": "mystnb",
  "jupytext": {
   "text_representation": {
    "extension": ".md",
    "format_name": "myst",
    "format_version": 0.13,
    "jupytext_version": "1.14.1"
   }
  },
  "kernelspec": {
   "display_name": "Python 3 (ipykernel)",
   "language": "python",
   "name": "python3"
  },
  "mystnb": {
   "execution_timeout": 200
  },
  "source_map": [
   15,
   55,
   65,
   89,
   103,
   109,
   120,
   128,
   134,
   136,
   148,
   157,
   166,
   168,
   174,
   183,
   192,
   196,
   202,
   211,
   220,
   224,
   241,
   275,
   284,
   293,
   297,
   331,
   336,
   342,
   346,
   351,
   353,
   359,
   366,
   371,
   400,
   404,
   417,
   424,
   428,
   433,
   442,
   449,
   453,
   461,
   466,
   470,
   474
  ]
 },
 "nbformat": 4,
 "nbformat_minor": 5
}